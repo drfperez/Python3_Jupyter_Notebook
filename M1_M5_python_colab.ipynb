{
  "cells": [
    {
      "cell_type": "markdown",
      "metadata": {
        "id": "view-in-github",
        "colab_type": "text"
      },
      "source": [
        "<a href=\"https://colab.research.google.com/github/drfperez/Python3_Jupyter_Notebook/blob/master/M1_M5_python_colab.ipynb\" target=\"_parent\"><img src=\"https://colab.research.google.com/assets/colab-badge.svg\" alt=\"Open In Colab\"/></a>"
      ]
    },
    {
      "cell_type": "markdown",
      "metadata": {
        "id": "CMs1P8Fieh8B"
      },
      "source": [
        "# M1. Dades, operadors i variables"
      ],
      "id": "CMs1P8Fieh8B"
    },
    {
      "cell_type": "code",
      "metadata": {
        "id": "2EfCByLIeh8G"
      },
      "source": [
        "## Variables\n",
        "x = 5\n",
        "nom = \"Anna\"\n",
        "print(x, nom)\n",
        "\n",
        "## Operadors Matemàtics\n",
        "a = 10\n",
        "b = 3\n",
        "print(\"Suma:\", a + b)\n",
        "print(\"Resta:\", a - b)\n",
        "print(\"Multiplicació:\", a * b)\n",
        "print(\"Divisió:\", a / b)\n",
        "print(\"Mòdul:\", a % b)\n",
        "\n",
        "## Operadors Lògics\n",
        "print(a > b)\n",
        "print(a < b)\n",
        "print(a == b)\n",
        "print(a != b)\n",
        "print(a >= b and b < 5)\n",
        "print(a < 5 or b < 5)\n",
        "\n",
        "## Entrada i sortida de dades\n",
        "nom = input(\"Com et dius? \")\n",
        "print(\"Hola,\", nom)"
      ],
      "id": "2EfCByLIeh8G",
      "execution_count": null,
      "outputs": []
    },
    {
      "cell_type": "markdown",
      "metadata": {
        "id": "i4zmD5rGeh8K"
      },
      "source": [
        "# M2. Llistes, tuples i diccionaris"
      ],
      "id": "i4zmD5rGeh8K"
    },
    {
      "cell_type": "code",
      "metadata": {
        "id": "py8ZEHypeh8L"
      },
      "source": [
        "## Llistes. Creació i manipulació\n",
        "fruits = [\"poma\", \"plàtan\", \"kiwi\"]\n",
        "print(fruits)\n",
        "fruits.append(\"taronja\")\n",
        "print(fruits)\n",
        "fruits[1] = \"maduixa\"\n",
        "\n",
        "## Slicing\n",
        "print(fruits[1:3])\n",
        "\n",
        "## Mètodes de llistes\n",
        "fruits.sort()\n",
        "print(fruits)\n",
        "fruits.remove(\"kiwi\")\n",
        "print(fruits)\n",
        "\n",
        "## Diccionaris\n",
        "persona = {\n",
        "    \"nom\": \"Jordi\",\n",
        "    \"edat\": 25,\n",
        "    \"ciutat\": \"Barcelona\"\n",
        "}\n",
        "print(persona)\n",
        "print(persona[\"nom\"])\n",
        "persona[\"edat\"] = 26"
      ],
      "id": "py8ZEHypeh8L",
      "execution_count": null,
      "outputs": []
    },
    {
      "cell_type": "markdown",
      "metadata": {
        "id": "gwVdu2ljeh8N"
      },
      "source": [
        "# M3. Condicionals i bucles"
      ],
      "id": "gwVdu2ljeh8N"
    },
    {
      "cell_type": "code",
      "metadata": {
        "id": "bQHxZZFoeh8P"
      },
      "source": [
        "## Condicional if, if_else\n",
        "edat = int(input(\"Quina edat tens? \"))\n",
        "if edat >= 18:\n",
        "    print(\"Ets major d'edat.\")\n",
        "else:\n",
        "    print(\"Ets menor d'edat.\")\n",
        "\n",
        "## Bucle for\n",
        "for i in range(5):\n",
        "    print(\"Iteració\", i)\n",
        "\n",
        "## Bucle while\n",
        "comptador = 0\n",
        "while comptador < 5:\n",
        "    print(\"Comptador:\", comptador)\n",
        "    comptador += 1"
      ],
      "id": "bQHxZZFoeh8P",
      "execution_count": null,
      "outputs": []
    },
    {
      "cell_type": "markdown",
      "metadata": {
        "id": "tIzs1Oj0eh8R"
      },
      "source": [
        "# M4. Math i random. Programació funcional"
      ],
      "id": "tIzs1Oj0eh8R"
    },
    {
      "cell_type": "code",
      "metadata": {
        "id": "fLwRKrpreh8S"
      },
      "source": [
        "import math\n",
        "import random\n",
        "\n",
        "## Mòdul math\n",
        "print(\"Arrel quadrada de 16:\", math.sqrt(16))\n",
        "print(\"Cosinus de 0:\", math.cos(0))\n",
        "print(\"Potència 2^3:\", math.pow(2, 3))\n",
        "\n",
        "## Mòdul random\n",
        "print(\"Número aleatori entre 1 i 10:\", random.randint(1, 10))\n",
        "print(\"Decimal aleatori:\", random.random())\n",
        "\n",
        "## Funcions\n",
        "def saluda(nom):\n",
        "    print(f\"Hola, {nom}!\")\n",
        "\n",
        "saluda(\"Marta\")\n",
        "\n",
        "def suma(a, b):\n",
        "    return a + b\n",
        "\n",
        "print(\"Suma:\", suma(3, 4))"
      ],
      "id": "fLwRKrpreh8S",
      "execution_count": null,
      "outputs": []
    },
    {
      "cell_type": "markdown",
      "metadata": {
        "id": "dPe2alqWeh8T"
      },
      "source": [
        "# M5. Projecte"
      ],
      "id": "dPe2alqWeh8T"
    },
    {
      "cell_type": "code",
      "metadata": {
        "id": "RPizanMgeh8U"
      },
      "source": [
        "# Exemple senzill: Joc d’endevinar un número\n",
        "import random\n",
        "\n",
        "nombre_secret = random.randint(1, 10)\n",
        "intents = 0\n",
        "\n",
        "print(\"Endevina el número entre 1 i 10\")\n",
        "\n",
        "while True:\n",
        "    resposta = int(input(\"El teu número: \"))\n",
        "    intents += 1\n",
        "    if resposta == nombre_secret:\n",
        "        print(f\"Correcte! Has encertat en {intents} intents.\")\n",
        "        break\n",
        "    elif resposta < nombre_secret:\n",
        "        print(\"Massa petit!\")\n",
        "    else:\n",
        "        print(\"Massa gran!\")"
      ],
      "id": "RPizanMgeh8U",
      "execution_count": null,
      "outputs": []
    }
  ],
  "metadata": {
    "kernelspec": {
      "display_name": "Python 3",
      "language": "python",
      "name": "python3"
    },
    "language_info": {
      "name": "python",
      "version": "3.10"
    },
    "colab": {
      "provenance": [],
      "include_colab_link": true
    }
  },
  "nbformat": 4,
  "nbformat_minor": 5
}